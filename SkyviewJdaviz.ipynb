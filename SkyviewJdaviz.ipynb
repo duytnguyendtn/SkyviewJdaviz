{
 "cells": [
  {
   "cell_type": "code",
   "execution_count": 1,
   "id": "d02179f6",
   "metadata": {},
   "outputs": [],
   "source": [
    "from astropy.utils.data import download_file\n",
    "from astroquery.skyview import SkyView\n",
    "from jdaviz import Imviz\n",
    "\n",
    "from skyview_plugin import SkyviewPlugin"
   ]
  },
  {
   "cell_type": "code",
   "execution_count": 2,
   "id": "982ac3f1-1d35-4d43-bd16-9a19f995e36e",
   "metadata": {},
   "outputs": [
    {
     "data": {
      "application/vnd.jupyter.widget-view+json": {
       "model_id": "5135de1744004630809995b1e61add0f",
       "version_major": 2,
       "version_minor": 0
      },
      "text/plain": [
       "Application(config='imviz', docs_link='https://jdaviz.readthedocs.io/en/v3.7.0/imviz/index.html', events=['cal…"
      ]
     },
     "metadata": {},
     "output_type": "display_data"
    }
   ],
   "source": [
    "from jdaviz.core.config import get_configuration\n",
    "from jdaviz.app import Application\n",
    "\n",
    "config = get_configuration('imviz')\n",
    "config['tray'].insert(1, 'PyVoPlugin')\n",
    "\n",
    "imviz = Imviz(Application(config))\n",
    "imviz.show()\n",
    "imviz.plugins['PyVO Plugin'].open_in_tray()"
   ]
  },
  {
   "cell_type": "code",
   "execution_count": null,
   "id": "384b3932-3eda-40c1-8582-2f1950fc1e16",
   "metadata": {},
   "outputs": [],
   "source": [
    "raise RuntimeError(\"Stop here\")"
   ]
  },
  {
   "cell_type": "code",
   "execution_count": null,
   "id": "e17abd32-136e-43c1-85c8-922821de7b49",
   "metadata": {},
   "outputs": [],
   "source": [
    "skyview_plugin = imviz.app.get_tray_item_from_name('SkyviewPlugin')\n",
    "skyview_plugin.source = \"PGC 2248\""
   ]
  },
  {
   "cell_type": "code",
   "execution_count": null,
   "id": "0e86ea6b-c4d5-42a5-a550-c293b48020ad",
   "metadata": {},
   "outputs": [],
   "source": [
    "# JWST Nircam Cartwheel\n",
    "import tempfile\n",
    "from astroquery.mast import Observations\n",
    "\n",
    "data_dir = tempfile.gettempdir()\n",
    "\n",
    "fn = \"jw02727-o002_t062_nircam_clear-f277w_i2d.fits\"\n",
    "uri = f\"mast:JWST/product/{fn}\"\n",
    "result = Observations.download_file(uri, local_path=f'{data_dir}/{fn}')\n",
    "imviz.load_data(f'{data_dir}/{fn}')"
   ]
  },
  {
   "cell_type": "code",
   "execution_count": null,
   "id": "22222c64-5e15-43aa-914e-69777fb02b6c",
   "metadata": {},
   "outputs": [],
   "source": [
    "example_data = 'https://skyview.gsfc.nasa.gov/cgi-bin/images?Survey=Digitized+SKY+survey&position=14.5,36.5&Return=FITS'\n",
    "fn = download_file(example_data, cache=True)\n",
    "\n",
    "imviz = Imviz()\n",
    "imviz.load_data(fn)\n",
    "imviz.show()"
   ]
  },
  {
   "cell_type": "code",
   "execution_count": null,
   "id": "4bc8d0ac",
   "metadata": {},
   "outputs": [],
   "source": [
    "SkyView.survey_dict.keys()"
   ]
  },
  {
   "cell_type": "code",
   "execution_count": null,
   "id": "7da8477f-3bf6-4dc3-8b69-eed90c329d35",
   "metadata": {},
   "outputs": [],
   "source": [
    "dir(SkyView)"
   ]
  },
  {
   "cell_type": "code",
   "execution_count": 3,
   "id": "6bfdd192-4150-4c19-8954-779c133f1724",
   "metadata": {},
   "outputs": [
    {
     "data": {
      "text/plain": [
       "\u001b[1;31mSignature:\u001b[0m\n",
       "\u001b[0mSkyView\u001b[0m\u001b[1;33m.\u001b[0m\u001b[0mget_images\u001b[0m\u001b[1;33m(\u001b[0m\u001b[1;33m\n",
       "\u001b[0m    \u001b[0mposition\u001b[0m\u001b[1;33m,\u001b[0m\u001b[1;33m\n",
       "\u001b[0m    \u001b[0msurvey\u001b[0m\u001b[1;33m,\u001b[0m\u001b[1;33m\n",
       "\u001b[0m    \u001b[0mcoordinates\u001b[0m\u001b[1;33m=\u001b[0m\u001b[1;32mNone\u001b[0m\u001b[1;33m,\u001b[0m\u001b[1;33m\n",
       "\u001b[0m    \u001b[0mprojection\u001b[0m\u001b[1;33m=\u001b[0m\u001b[1;32mNone\u001b[0m\u001b[1;33m,\u001b[0m\u001b[1;33m\n",
       "\u001b[0m    \u001b[0mpixels\u001b[0m\u001b[1;33m=\u001b[0m\u001b[1;32mNone\u001b[0m\u001b[1;33m,\u001b[0m\u001b[1;33m\n",
       "\u001b[0m    \u001b[0mscaling\u001b[0m\u001b[1;33m=\u001b[0m\u001b[1;32mNone\u001b[0m\u001b[1;33m,\u001b[0m\u001b[1;33m\n",
       "\u001b[0m    \u001b[0msampler\u001b[0m\u001b[1;33m=\u001b[0m\u001b[1;32mNone\u001b[0m\u001b[1;33m,\u001b[0m\u001b[1;33m\n",
       "\u001b[0m    \u001b[0mresolver\u001b[0m\u001b[1;33m=\u001b[0m\u001b[1;32mNone\u001b[0m\u001b[1;33m,\u001b[0m\u001b[1;33m\n",
       "\u001b[0m    \u001b[0mdeedger\u001b[0m\u001b[1;33m=\u001b[0m\u001b[1;32mNone\u001b[0m\u001b[1;33m,\u001b[0m\u001b[1;33m\n",
       "\u001b[0m    \u001b[0mlut\u001b[0m\u001b[1;33m=\u001b[0m\u001b[1;32mNone\u001b[0m\u001b[1;33m,\u001b[0m\u001b[1;33m\n",
       "\u001b[0m    \u001b[0mgrid\u001b[0m\u001b[1;33m=\u001b[0m\u001b[1;32mNone\u001b[0m\u001b[1;33m,\u001b[0m\u001b[1;33m\n",
       "\u001b[0m    \u001b[0mgridlabels\u001b[0m\u001b[1;33m=\u001b[0m\u001b[1;32mNone\u001b[0m\u001b[1;33m,\u001b[0m\u001b[1;33m\n",
       "\u001b[0m    \u001b[0mradius\u001b[0m\u001b[1;33m=\u001b[0m\u001b[1;32mNone\u001b[0m\u001b[1;33m,\u001b[0m\u001b[1;33m\n",
       "\u001b[0m    \u001b[0mheight\u001b[0m\u001b[1;33m=\u001b[0m\u001b[1;32mNone\u001b[0m\u001b[1;33m,\u001b[0m\u001b[1;33m\n",
       "\u001b[0m    \u001b[0mwidth\u001b[0m\u001b[1;33m=\u001b[0m\u001b[1;32mNone\u001b[0m\u001b[1;33m,\u001b[0m\u001b[1;33m\n",
       "\u001b[0m    \u001b[0mcache\u001b[0m\u001b[1;33m=\u001b[0m\u001b[1;32mTrue\u001b[0m\u001b[1;33m,\u001b[0m\u001b[1;33m\n",
       "\u001b[0m    \u001b[0mshow_progress\u001b[0m\u001b[1;33m=\u001b[0m\u001b[1;32mTrue\u001b[0m\u001b[1;33m,\u001b[0m\u001b[1;33m\n",
       "\u001b[0m\u001b[1;33m)\u001b[0m\u001b[1;33m\u001b[0m\u001b[1;33m\u001b[0m\u001b[0m\n",
       "\u001b[1;31mDocstring:\u001b[0m\n",
       "Query the SkyView service, download the FITS file that will be\n",
       "found and return a generator over the local paths to the\n",
       "downloaded FITS files.\n",
       "\n",
       "Note that the files will be downloaded when the generator will be\n",
       "exhausted, i.e. just calling this method alone without iterating\n",
       "over the result won't issue a connection to the SkyView server.\n",
       "\n",
       "Parameters\n",
       "----------\n",
       "position : str\n",
       "    Determines the center of the field to be retrieved. Both\n",
       "    coordinates (also equatorial ones) and object names are\n",
       "    supported. Object names are converted to coordinates via the\n",
       "    SIMBAD or NED name resolver. See the reference for more info\n",
       "    on the supported syntax for coordinates.\n",
       "survey : str or list of str\n",
       "    Select data from one or more surveys. The number of surveys\n",
       "    determines the number of resulting file downloads. Passing a\n",
       "    list with just one string has the same effect as passing this\n",
       "    string directly.\n",
       "coordinates : str\n",
       "    Choose among common equatorial, galactic and ecliptic\n",
       "    coordinate systems (``\"J2000\"``, ``\"B1950\"``, ``\"Galactic\"``,\n",
       "    ``\"E2000\"``, ``\"ICRS\"``) or pass a custom string.\n",
       "projection : str\n",
       "    Choose among the map projections (the value in parentheses\n",
       "    denotes the string to be passed):\n",
       "\n",
       "    Gnomonic (Tan), default value\n",
       "        good for small regions\n",
       "    Rectangular (Car)\n",
       "        simplest projection\n",
       "    Aitoff (Ait)\n",
       "        Hammer-Aitoff, equal area projection good for all sky maps\n",
       "    Orthographic (Sin)\n",
       "        Projection often used in interferometry\n",
       "    Zenith Equal Area (Zea)\n",
       "        equal area, azimuthal projection\n",
       "    COBE Spherical Cube (Csc)\n",
       "        Used in COBE data\n",
       "    Arc (Arc)\n",
       "        Similar to Zea but not equal-area\n",
       "pixels : str\n",
       "    Selects the pixel dimensions of the image to be produced. A\n",
       "    scalar value or a pair of values separated by comma may be\n",
       "    given. If the value is a scalar the number of width and height\n",
       "    of the image will be the same. By default a 300x300 image is\n",
       "    produced.\n",
       "scaling : str\n",
       "    Selects the transformation between pixel intensity and\n",
       "    intensity on the displayed image. The supported values are:\n",
       "    ``\"Log\"``, ``\"Sqrt\"``, ``\"Linear\"``, ``\"HistEq\"``,\n",
       "    ``\"LogLog\"``.\n",
       "sampler : str\n",
       "    The sampling algorithm determines how the data requested will\n",
       "    be resampled so that it can be displayed.\n",
       "resolver : str\n",
       "    The name resolver allows to choose a name resolver to use when\n",
       "    looking up a name which was passed in the ``position`` parameter\n",
       "    (as opposed to a numeric coordinate value). The default choice\n",
       "    is to call the SIMBAD name resolver first and then the NED\n",
       "    name resolver if the SIMBAD search fails.\n",
       "deedger : str\n",
       "    When multiple input images with different backgrounds are\n",
       "    resampled the edges between the images may be apparent because\n",
       "    of the background shift. This parameter makes it possible to\n",
       "    attempt to minimize these edges by applying a de-edging\n",
       "    algorithm. The user can elect to choose the default given for\n",
       "    that survey, to turn de-edging off, or to use the default\n",
       "    de-edging algorithm. The supported values are: ``\"_skip_\"`` to\n",
       "    use the survey default, ``\"skyview.process.Deedger\"`` (for\n",
       "    enabling de-edging), and ``\"null\"`` to disable.\n",
       "lut : str\n",
       "    Choose from the color table selections to display the data in\n",
       "    false color.\n",
       "grid : bool\n",
       "    overlay a coordinate grid on the image if True\n",
       "gridlabels : bool\n",
       "    annotate the grid with coordinates positions if True\n",
       "radius : `~astropy.units.Quantity` or None\n",
       "    The radius of the specified field.  Overrides width and height.\n",
       "width : `~astropy.units.Quantity` or None\n",
       "    The width of the specified field.  Must be specified\n",
       "    with ``height``.\n",
       "height : `~astropy.units.Quantity` or None\n",
       "    The height of the specified field.  Must be specified\n",
       "    with ``width``.\n",
       "\n",
       "References\n",
       "----------\n",
       ".. [1] http://skyview.gsfc.nasa.gov/current/help/fields.html\n",
       "\n",
       "Examples\n",
       "--------\n",
       ">>> sv = SkyView()\n",
       ">>> paths = sv.get_images(position='Eta Carinae',\n",
       "...                       survey=['Fermi 5', 'HRI', 'DSS'])\n",
       ">>> for path in paths:\n",
       "...     print(' new file:', path)\n",
       "\n",
       "Returns\n",
       "-------\n",
       "A list of `~astropy.io.fits.HDUList` objects.\n",
       "\u001b[1;31mFile:\u001b[0m      c:\\users\\dtnguy20\\onedrive - nasa\\gitrepos\\skyviewjdaviz\\envlocal\\lib\\site-packages\\astroquery\\skyview\\core.py\n",
       "\u001b[1;31mType:\u001b[0m      method"
      ]
     },
     "metadata": {},
     "output_type": "display_data"
    }
   ],
   "source": [
    "SkyView.get_images?"
   ]
  },
  {
   "cell_type": "code",
   "execution_count": 13,
   "id": "4e0f0998-c563-42e0-af92-ea1856fb9048",
   "metadata": {},
   "outputs": [
    {
     "data": {
      "application/vnd.jupyter.widget-view+json": {
       "model_id": "b41aadf1431f4dc282f8c5ef500a93ad",
       "version_major": 2,
       "version_minor": 0
      },
      "text/plain": [
       "Application(config='imviz', docs_link='https://jdaviz.readthedocs.io/en/v3.7.0/imviz/index.html', events=['cal…"
      ]
     },
     "metadata": {},
     "output_type": "display_data"
    }
   ],
   "source": [
    "from astropy import units as u\n",
    "u.deg\n",
    "return_payload = SkyView.get_images(survey='DSS', position=\"Andromeda\", radius=6*u.deg, resolver=\"NED only\")[0]\n",
    "file = return_payload[0]\n",
    "#file = SkyView.get_images(survey='DSS', position=\"Super Fake Source\", pixels=600, grid='J2000')[0]\n",
    "\n",
    "imviz = Imviz()\n",
    "imviz.load_data(file)\n",
    "imviz.show()"
   ]
  },
  {
   "cell_type": "code",
   "execution_count": 14,
   "id": "c421a140-fdf5-4088-8557-c553212b6701",
   "metadata": {},
   "outputs": [
    {
     "data": {
      "text/plain": [
       "['https://skyview.gsfc.nasa.gov/tempspace/fits/skv12291802489876.fits']"
      ]
     },
     "execution_count": 14,
     "metadata": {},
     "output_type": "execute_result"
    }
   ],
   "source": [
    "SkyView.get_image_list(survey='DSS', position=\"Andromeda\", radius=6*u.deg)"
   ]
  },
  {
   "cell_type": "code",
   "execution_count": 9,
   "id": "df161887-57e0-49a4-b24e-5cf2b08b411b",
   "metadata": {},
   "outputs": [
    {
     "data": {
      "text/plain": [
       "[<astropy.io.fits.hdu.image.PrimaryHDU object at 0x000001EF5DCC73D0>]"
      ]
     },
     "execution_count": 9,
     "metadata": {},
     "output_type": "execute_result"
    }
   ],
   "source": [
    "return_payload"
   ]
  },
  {
   "cell_type": "code",
   "execution_count": null,
   "id": "07f86a72-b25e-4001-9c19-d44327d98485",
   "metadata": {},
   "outputs": [],
   "source": [
    "from skyview_plugin import SkyviewPlugin"
   ]
  },
  {
   "cell_type": "code",
   "execution_count": null,
   "id": "e59a13f5-7f86-4de4-8e12-314289b8861b",
   "metadata": {},
   "outputs": [],
   "source": []
  },
  {
   "cell_type": "code",
   "execution_count": null,
   "id": "904af1bd-0ad8-4fcb-a3e1-02a8a52c6b13",
   "metadata": {},
   "outputs": [],
   "source": [
    "from jdaviz.core.launcher import show_launcher\n",
    "show_launcher()"
   ]
  },
  {
   "cell_type": "code",
   "execution_count": null,
   "id": "e1b3893e-883b-40ea-979a-c67effadb25b",
   "metadata": {
    "scrolled": true
   },
   "outputs": [],
   "source": [
    "from astroquery.skyview import SkyView\n",
    "SkyView.list_surveys()"
   ]
  },
  {
   "cell_type": "code",
   "execution_count": 2,
   "id": "d4a5bf4b-65fc-4337-9d92-b09183820f0a",
   "metadata": {},
   "outputs": [
    {
     "data": {
      "text/plain": [
       "[<PARAM ID=\"param_pos\" arraysize=\"*\" datatype=\"char\" name=\"INPUT:POS\" value=\"\"/>,\n",
       " <PARAM ID=\"param_size\" arraysize=\"*\" datatype=\"char\" name=\"INPUT:SIZE\" value=\"\"/>,\n",
       " <PARAM ID=\"param_format\" arraysize=\"*\" datatype=\"char\" name=\"INPUT:FORMAT\" value=\"METADATA\"/>,\n",
       " <PARAM ID=\"param_pixels\" arraysize=\"*\" datatype=\"char\" name=\"INPUT:NAXIS\" value=\"300\"/>,\n",
       " <PARAM ID=\"param_projection\" arraysize=\"*\" datatype=\"char\" name=\"INPUT:PROJ\" value=\"Tan\"/>,\n",
       " <PARAM ID=\"param_coordinates\" arraysize=\"*\" datatype=\"char\" name=\"INPUT:CFRAME\" value=\"ICRS\"/>,\n",
       " <PARAM ID=\"param_equinox\" arraysize=\"*\" datatype=\"char\" name=\"INPUT:EQUINOX\" value=\"2000\"/>,\n",
       " <PARAM ID=\"param_sampler\" arraysize=\"*\" datatype=\"char\" name=\"INPUT:INTERPOLATION\" value=\"Default\"/>,\n",
       " <PARAM ID=\"param_big\" arraysize=\"*\" datatype=\"char\" name=\"INPUT:big\" value=\"10000\"/>,\n",
       " <PARAM ID=\"param_small\" arraysize=\"*\" datatype=\"char\" name=\"INPUT:small\" value=\"5\"/>]"
      ]
     },
     "execution_count": 2,
     "metadata": {},
     "output_type": "execute_result"
    }
   ],
   "source": [
    "import pyvo as vo\n",
    "service = vo.dal.SIAService('https://skyview.gsfc.nasa.gov/cgi-bin/vo/sia.pl')\n",
    "service.params"
   ]
  },
  {
   "cell_type": "code",
   "execution_count": null,
   "id": "f5893a5d-4a0a-46ab-8319-7b27c72c5734",
   "metadata": {},
   "outputs": [],
   "source": []
  }
 ],
 "metadata": {
  "kernelspec": {
   "display_name": "Python 3 (ipykernel)",
   "language": "python",
   "name": "python3"
  },
  "language_info": {
   "codemirror_mode": {
    "name": "ipython",
    "version": 3
   },
   "file_extension": ".py",
   "mimetype": "text/x-python",
   "name": "python",
   "nbconvert_exporter": "python",
   "pygments_lexer": "ipython3",
   "version": "3.11.5"
  }
 },
 "nbformat": 4,
 "nbformat_minor": 5
}
