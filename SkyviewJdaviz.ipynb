{
 "cells": [
  {
   "cell_type": "code",
   "execution_count": null,
   "id": "d02179f6",
   "metadata": {},
   "outputs": [],
   "source": [
    "from astropy.utils.data import download_file\n",
    "from astroquery.skyview import SkyView\n",
    "from jdaviz import Imviz\n",
    "\n",
    "from skyview_plugin import SkyviewPlugin"
   ]
  },
  {
   "cell_type": "code",
   "execution_count": null,
   "id": "982ac3f1-1d35-4d43-bd16-9a19f995e36e",
   "metadata": {},
   "outputs": [],
   "source": [
    "from jdaviz.core.config import get_configuration\n",
    "from jdaviz.app import Application\n",
    "\n",
    "config = get_configuration('imviz')\n",
    "config['tray'].insert(1, 'SkyviewPlugin')\n",
    "\n",
    "imviz = Imviz(Application(config))\n",
    "imviz.show()\n",
    "imviz.plugins['Skyview Plugin'].open_in_tray()"
   ]
  },
  {
   "cell_type": "code",
   "execution_count": null,
   "id": "384b3932-3eda-40c1-8582-2f1950fc1e16",
   "metadata": {},
   "outputs": [],
   "source": [
    "raise RuntimeError(\"Stop here\")"
   ]
  },
  {
   "cell_type": "code",
   "execution_count": null,
   "id": "e17abd32-136e-43c1-85c8-922821de7b49",
   "metadata": {},
   "outputs": [],
   "source": [
    "skyview_plugin = imviz.app.get_tray_item_from_name('SkyviewPlugin')\n",
    "skyview_plugin.source = \"PGC 2248\""
   ]
  },
  {
   "cell_type": "code",
   "execution_count": null,
   "id": "0e86ea6b-c4d5-42a5-a550-c293b48020ad",
   "metadata": {},
   "outputs": [],
   "source": [
    "# JWST Nircam Cartwheel\n",
    "import tempfile\n",
    "from astroquery.mast import Observations\n",
    "\n",
    "data_dir = tempfile.gettempdir()\n",
    "\n",
    "fn = \"jw02727-o002_t062_nircam_clear-f277w_i2d.fits\"\n",
    "uri = f\"mast:JWST/product/{fn}\"\n",
    "result = Observations.download_file(uri, local_path=f'{data_dir}/{fn}')\n",
    "imviz.load_data(f'{data_dir}/{fn}')"
   ]
  },
  {
   "cell_type": "code",
   "execution_count": null,
   "id": "22222c64-5e15-43aa-914e-69777fb02b6c",
   "metadata": {},
   "outputs": [],
   "source": [
    "example_data = 'https://skyview.gsfc.nasa.gov/cgi-bin/images?Survey=Digitized+SKY+survey&position=14.5,36.5&Return=FITS'\n",
    "fn = download_file(example_data, cache=True)\n",
    "\n",
    "imviz = Imviz()\n",
    "imviz.load_data(fn)\n",
    "imviz.show()"
   ]
  },
  {
   "cell_type": "code",
   "execution_count": null,
   "id": "4bc8d0ac",
   "metadata": {},
   "outputs": [],
   "source": [
    "SkyView.survey_dict.keys()"
   ]
  },
  {
   "cell_type": "code",
   "execution_count": null,
   "id": "7da8477f-3bf6-4dc3-8b69-eed90c329d35",
   "metadata": {},
   "outputs": [],
   "source": [
    "dir(SkyView)"
   ]
  },
  {
   "cell_type": "code",
   "execution_count": null,
   "id": "4e0f0998-c563-42e0-af92-ea1856fb9048",
   "metadata": {},
   "outputs": [],
   "source": [
    "from astropy import units as u\n",
    "u.deg\n",
    "#file = SkyView.get_images(survey='DSS', position=\"Andromeda\", radius=6*u.deg)[0]\n",
    "file = SkyView.get_images(survey='DSS', position=\"Super Fake Source\", pixels=600)[0]\n",
    "\n",
    "imviz = Imviz()\n",
    "imviz.load_data(file)\n",
    "imviz.show()"
   ]
  },
  {
   "cell_type": "code",
   "execution_count": null,
   "id": "07f86a72-b25e-4001-9c19-d44327d98485",
   "metadata": {},
   "outputs": [],
   "source": [
    "from skyview_plugin import SkyviewPlugin"
   ]
  },
  {
   "cell_type": "code",
   "execution_count": null,
   "id": "e59a13f5-7f86-4de4-8e12-314289b8861b",
   "metadata": {},
   "outputs": [],
   "source": []
  },
  {
   "cell_type": "code",
   "execution_count": null,
   "id": "904af1bd-0ad8-4fcb-a3e1-02a8a52c6b13",
   "metadata": {},
   "outputs": [],
   "source": []
  }
 ],
 "metadata": {
  "kernelspec": {
   "display_name": "Python 3 (ipykernel)",
   "language": "python",
   "name": "python3"
  },
  "language_info": {
   "codemirror_mode": {
    "name": "ipython",
    "version": 3
   },
   "file_extension": ".py",
   "mimetype": "text/x-python",
   "name": "python",
   "nbconvert_exporter": "python",
   "pygments_lexer": "ipython3",
   "version": "3.10.10"
  }
 },
 "nbformat": 4,
 "nbformat_minor": 5
}
