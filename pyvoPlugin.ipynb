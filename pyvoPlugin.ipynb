{
 "cells": [
  {
   "cell_type": "code",
   "execution_count": 1,
   "id": "d02179f6",
   "metadata": {},
   "outputs": [],
   "source": [
    "from astropy.utils.data import download_file\n",
    "from astroquery.skyview import SkyView\n",
    "from jdaviz import Imviz\n",
    "\n",
    "#from skyview_plugin import SkyviewPlugin\n",
    "from pyvo_plugin import PyVoPlugin"
   ]
  },
  {
   "cell_type": "code",
   "execution_count": 2,
   "id": "982ac3f1-1d35-4d43-bd16-9a19f995e36e",
   "metadata": {},
   "outputs": [
    {
     "data": {
      "application/vnd.jupyter.widget-view+json": {
       "model_id": "dc6671d20caa45d5b944275351429c55",
       "version_major": 2,
       "version_minor": 0
      },
      "text/plain": [
       "Application(config='imviz', docs_link='https://jdaviz.readthedocs.io/en/latest/imviz/index.html', events=['cal…"
      ]
     },
     "metadata": {},
     "output_type": "display_data"
    },
    {
     "data": {
      "application/vnd.jupyter.widget-view+json": {
       "model_id": "9857229e5a194c00a63facc6bf0ce554",
       "version_major": 2,
       "version_minor": 0
      },
      "text/plain": [
       "PyVoPlugin(add_to_viewer_items=[{'label': 'None'}, {'id': 'imviz-0', 'icon': 1, 'reference': 'imviz-0', 'label…"
      ]
     },
     "metadata": {},
     "output_type": "display_data"
    }
   ],
   "source": [
    "from jdaviz.core.config import get_configuration\n",
    "from jdaviz.app import Application\n",
    "\n",
    "config = get_configuration('imviz')\n",
    "#config['tray'].insert(1, 'SkyviewPlugin')\n",
    "config['tray'].insert(1, 'PyVoPlugin')\n",
    "\n",
    "\n",
    "imviz = Imviz(Application(config))\n",
    "imviz.show()\n",
    "imviz.plugins['PyVO Plugin'].show()"
   ]
  },
  {
   "cell_type": "code",
   "execution_count": null,
   "id": "e9fda64d-0f00-4790-8c86-ad379b830a2e",
   "metadata": {},
   "outputs": [],
   "source": []
  },
  {
   "cell_type": "code",
   "execution_count": null,
   "id": "8ba01183-3753-4bff-9a75-79fa1ae931fd",
   "metadata": {},
   "outputs": [],
   "source": []
  },
  {
   "cell_type": "code",
   "execution_count": 3,
   "id": "384b3932-3eda-40c1-8582-2f1950fc1e16",
   "metadata": {},
   "outputs": [
    {
     "ename": "RuntimeError",
     "evalue": "Stop here",
     "output_type": "error",
     "traceback": [
      "\u001b[1;31m---------------------------------------------------------------------------\u001b[0m",
      "\u001b[1;31mRuntimeError\u001b[0m                              Traceback (most recent call last)",
      "Cell \u001b[1;32mIn[3], line 1\u001b[0m\n\u001b[1;32m----> 1\u001b[0m \u001b[38;5;28;01mraise\u001b[39;00m \u001b[38;5;167;01mRuntimeError\u001b[39;00m(\u001b[38;5;124m\"\u001b[39m\u001b[38;5;124mStop here\u001b[39m\u001b[38;5;124m\"\u001b[39m)\n",
      "\u001b[1;31mRuntimeError\u001b[0m: Stop here"
     ]
    }
   ],
   "source": [
    "raise RuntimeError(\"Stop here\")"
   ]
  },
  {
   "cell_type": "code",
   "execution_count": null,
   "id": "e17abd32-136e-43c1-85c8-922821de7b49",
   "metadata": {},
   "outputs": [],
   "source": [
    "skyview_plugin = imviz.app.get_tray_item_from_name('SkyviewPlugin')\n",
    "skyview_plugin.source = \"PGC 2248\""
   ]
  },
  {
   "cell_type": "code",
   "execution_count": null,
   "id": "0e86ea6b-c4d5-42a5-a550-c293b48020ad",
   "metadata": {},
   "outputs": [],
   "source": [
    "# JWST Nircam Cartwheel\n",
    "import tempfile\n",
    "from astroquery.mast import Observations\n",
    "\n",
    "data_dir = tempfile.gettempdir()\n",
    "\n",
    "fn = \"jw02727-o002_t062_nircam_clear-f277w_i2d.fits\"\n",
    "uri = f\"mast:JWST/product/{fn}\"\n",
    "result = Observations.download_file(uri, local_path=f'{data_dir}/{fn}')\n",
    "imviz.load_data(f'{data_dir}/{fn}')"
   ]
  },
  {
   "cell_type": "code",
   "execution_count": null,
   "id": "22222c64-5e15-43aa-914e-69777fb02b6c",
   "metadata": {},
   "outputs": [],
   "source": [
    "example_data = 'https://skyview.gsfc.nasa.gov/cgi-bin/images?Survey=Digitized+SKY+survey&position=14.5,36.5&Return=FITS'\n",
    "fn = download_file(example_data, cache=True)\n",
    "\n",
    "imviz = Imviz()\n",
    "imviz.load_data(fn)\n",
    "imviz.show()"
   ]
  },
  {
   "cell_type": "code",
   "execution_count": null,
   "id": "4bc8d0ac",
   "metadata": {},
   "outputs": [],
   "source": [
    "SkyView.survey_dict.keys()"
   ]
  },
  {
   "cell_type": "code",
   "execution_count": null,
   "id": "7da8477f-3bf6-4dc3-8b69-eed90c329d35",
   "metadata": {},
   "outputs": [],
   "source": [
    "dir(SkyView)"
   ]
  },
  {
   "cell_type": "code",
   "execution_count": null,
   "id": "4e0f0998-c563-42e0-af92-ea1856fb9048",
   "metadata": {},
   "outputs": [],
   "source": [
    "from astropy import units as u\n",
    "u.deg\n",
    "#file = SkyView.get_images(survey='DSS', position=\"Andromeda\", radius=6*u.deg)[0]\n",
    "file = SkyView.get_images(survey='DSS', position=\"Super Fake Source\", pixels=600)[0]\n",
    "\n",
    "imviz = Imviz()\n",
    "imviz.load_data(file)\n",
    "imviz.show()"
   ]
  },
  {
   "cell_type": "code",
   "execution_count": null,
   "id": "07f86a72-b25e-4001-9c19-d44327d98485",
   "metadata": {},
   "outputs": [],
   "source": [
    "from skyview_plugin import SkyviewPlugin"
   ]
  },
  {
   "cell_type": "code",
   "execution_count": null,
   "id": "e59a13f5-7f86-4de4-8e12-314289b8861b",
   "metadata": {},
   "outputs": [],
   "source": []
  },
  {
   "cell_type": "code",
   "execution_count": null,
   "id": "904af1bd-0ad8-4fcb-a3e1-02a8a52c6b13",
   "metadata": {},
   "outputs": [],
   "source": [
    "from astropy.coordinates import SkyCoord\n",
    "from astropy.io import fits\n",
    "from astropy import units as u\n",
    "from pyvo.utils import vocabularies\n",
    "from pyvo import registry\n",
    "\n",
    "sia_service = registry.search(registry.Servicetype(\"sia\"), registry.Waveband(\"optical\"))['SkyView'].get_service(service_type=\"sia\")\n",
    "coord = SkyCoord.from_name(\"M32\")\n",
    "rad = 1\n",
    "sia_results = sia_service.search(coord,\n",
    "                                 size=((rad * u.deg) if rad > 0 else None),\n",
    "                                 format='image/fits')\n",
    "sia_results"
   ]
  },
  {
   "cell_type": "code",
   "execution_count": null,
   "id": "9b89632d-8b96-4498-80f1-fabf9ff0a22c",
   "metadata": {},
   "outputs": [],
   "source": [
    "imviz.app._jdaviz_helper.load_data(fits.open(sia_results[0].getdataurl()))"
   ]
  },
  {
   "cell_type": "code",
   "execution_count": null,
   "id": "fb240933-c22a-4565-baaa-864a0964fa72",
   "metadata": {},
   "outputs": [],
   "source": [
    "dir(sia_results[0])"
   ]
  },
  {
   "cell_type": "code",
   "execution_count": null,
   "id": "3f1eafbe-567c-40a0-b3d2-99cc7499fdf1",
   "metadata": {},
   "outputs": [],
   "source": [
    "sia_results[0].dateobs"
   ]
  },
  {
   "cell_type": "code",
   "execution_count": null,
   "id": "648d02af-f31b-483b-95c4-b744da14c004",
   "metadata": {},
   "outputs": [],
   "source": [
    "fits.open(sia_results[0].getdataurl())[0]"
   ]
  },
  {
   "cell_type": "code",
   "execution_count": null,
   "id": "dc43cc45-eec4-4364-8f4f-5900b5976fd1",
   "metadata": {},
   "outputs": [],
   "source": [
    "dir(sia_results)"
   ]
  },
  {
   "cell_type": "code",
   "execution_count": null,
   "id": "c5e3f2ef-e24a-4e7f-b884-7725c4f328ba",
   "metadata": {},
   "outputs": [],
   "source": [
    "sia_results.fieldnames"
   ]
  },
  {
   "cell_type": "code",
   "execution_count": null,
   "id": "dd89b596-660f-4a68-bf31-58f661367b2d",
   "metadata": {},
   "outputs": [],
   "source": [
    "sia_results.getcolumn('StartTime')"
   ]
  },
  {
   "cell_type": "code",
   "execution_count": null,
   "id": "e3a60bd1-e8fc-45ad-88e1-b54e9410f3b1",
   "metadata": {},
   "outputs": [],
   "source": [
    "sia_results.to_table"
   ]
  },
  {
   "cell_type": "code",
   "execution_count": null,
   "id": "d639fac8-8ebd-4f45-ab74-2c8396e1cf0d",
   "metadata": {},
   "outputs": [],
   "source": [
    "dir(sia_results[0])"
   ]
  },
  {
   "cell_type": "code",
   "execution_count": null,
   "id": "9d20d353-b203-4305-818f-2dd2e9d7aeeb",
   "metadata": {},
   "outputs": [],
   "source": [
    "sia_results[0].getdataset"
   ]
  },
  {
   "cell_type": "code",
   "execution_count": null,
   "id": "f4593148-a46c-4ae0-a52f-f57cd165b7f9",
   "metadata": {},
   "outputs": [],
   "source": [
    "str(sia_results[0].getdataurl())"
   ]
  },
  {
   "cell_type": "code",
   "execution_count": null,
   "id": "5ccafa73-893f-4289-b813-7c21b4f32145",
   "metadata": {},
   "outputs": [],
   "source": [
    "sia_results[0].getdataurl()"
   ]
  },
  {
   "cell_type": "code",
   "execution_count": null,
   "id": "283a7313-f62a-40f8-8059-ed38791ee98a",
   "metadata": {},
   "outputs": [],
   "source": []
  }
 ],
 "metadata": {
  "kernelspec": {
   "display_name": "Python 3 (ipykernel)",
   "language": "python",
   "name": "python3"
  },
  "language_info": {
   "codemirror_mode": {
    "name": "ipython",
    "version": 3
   },
   "file_extension": ".py",
   "mimetype": "text/x-python",
   "name": "python",
   "nbconvert_exporter": "python",
   "pygments_lexer": "ipython3",
   "version": "3.10.10"
  }
 },
 "nbformat": 4,
 "nbformat_minor": 5
}
